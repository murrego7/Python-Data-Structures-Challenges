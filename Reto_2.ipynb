{
 "cells": [
  {
   "cell_type": "markdown",
   "metadata": {},
   "source": [
    "# Solución Código # "
   ]
  },
  {
   "cell_type": "code",
   "execution_count": 29,
   "metadata": {
    "scrolled": true
   },
   "outputs": [
    {
     "name": "stdout",
     "output_type": "stream",
     "text": [
      "Excelente, has convertido un poema en un Dataframe para trabajar con el!\n"
     ]
    }
   ],
   "source": [
    "def generar_dataframe_palabras(text):\n",
    "    import pandas\n",
    "    counts = dict()\n",
    "\n",
    "    words = text.split()\n",
    "\n",
    "    for word in words:\n",
    "        counts[word] = counts.get(word,0) + 1\n",
    "    #counts\n",
    "    df = pandas.DataFrame.from_dict(counts, orient = 'index').reset_index().rename(columns={\"index\": \"Words\", \"0\": \"count\"})\n",
    "    return df\n",
    "\n",
    "neruda = \"\"\"Puedo escribir los versos más tristes esta noche.\n",
    "            Yo la quise, y a veces ella también me quiso.\n",
    "            En las noches como ésta la tuve entre mis brazos.\n",
    "            La besé tantas veces bajo el cielo infinito.\n",
    "            \n",
    "            Ella me quiso, a veces yo también la quería.\n",
    "            Cómo no haber amado sus grandes ojos fijos.\"\"\".lower()  # lower hace que todas las letras sean minúsculas.\n",
    "\n",
    "if __name__ == '__main__':\n",
    "    d = generar_dataframe_palabras(neruda)\n",
    "    assert isinstance(d, pandas.DataFrame), \"Aun no generas un Dataframe, verifica tu algoritmo!\"\n",
    "    print(\"Excelente, has convertido un poema en un Dataframe para trabajar con el!\")"
   ]
  },
  {
   "cell_type": "code",
   "execution_count": null,
   "metadata": {},
   "outputs": [],
   "source": []
  }
 ],
 "metadata": {
  "kernelspec": {
   "display_name": "Python 3",
   "language": "python",
   "name": "python3"
  },
  "language_info": {
   "codemirror_mode": {
    "name": "ipython",
    "version": 3
   },
   "file_extension": ".py",
   "mimetype": "text/x-python",
   "name": "python",
   "nbconvert_exporter": "python",
   "pygments_lexer": "ipython3",
   "version": "3.7.6"
  }
 },
 "nbformat": 4,
 "nbformat_minor": 4
}
