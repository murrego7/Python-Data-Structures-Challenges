{
 "cells": [
  {
   "cell_type": "markdown",
   "metadata": {},
   "source": [
    "#  Solución Código #"
   ]
  },
  {
   "cell_type": "code",
   "execution_count": 1,
   "metadata": {
    "scrolled": false
   },
   "outputs": [
    {
     "data": {
      "text/html": [
       "<div>\n",
       "<style scoped>\n",
       "    .dataframe tbody tr th:only-of-type {\n",
       "        vertical-align: middle;\n",
       "    }\n",
       "\n",
       "    .dataframe tbody tr th {\n",
       "        vertical-align: top;\n",
       "    }\n",
       "\n",
       "    .dataframe thead th {\n",
       "        text-align: right;\n",
       "    }\n",
       "</style>\n",
       "<table border=\"1\" class=\"dataframe\">\n",
       "  <thead>\n",
       "    <tr style=\"text-align: right;\">\n",
       "      <th></th>\n",
       "      <th>title</th>\n",
       "      <th>release_date</th>\n",
       "      <th>budget</th>\n",
       "      <th>revenue</th>\n",
       "      <th>runtime</th>\n",
       "    </tr>\n",
       "  </thead>\n",
       "  <tbody>\n",
       "    <tr>\n",
       "      <th>0</th>\n",
       "      <td>Father of the Bride Part II</td>\n",
       "      <td>1995-02-10</td>\n",
       "      <td>0</td>\n",
       "      <td>76578911</td>\n",
       "      <td>106.0</td>\n",
       "    </tr>\n",
       "    <tr>\n",
       "      <th>1</th>\n",
       "      <td>Balto</td>\n",
       "      <td>1995-12-22</td>\n",
       "      <td>0</td>\n",
       "      <td>11348324</td>\n",
       "      <td>78.0</td>\n",
       "    </tr>\n",
       "    <tr>\n",
       "      <th>2</th>\n",
       "      <td>Dangerous Minds</td>\n",
       "      <td>1995-08-11</td>\n",
       "      <td>0</td>\n",
       "      <td>180000000</td>\n",
       "      <td>99.0</td>\n",
       "    </tr>\n",
       "  </tbody>\n",
       "</table>\n",
       "</div>"
      ],
      "text/plain": [
       "                         title release_date  budget    revenue  runtime\n",
       "0  Father of the Bride Part II   1995-02-10       0   76578911    106.0\n",
       "1                        Balto   1995-12-22       0   11348324     78.0\n",
       "2              Dangerous Minds   1995-08-11       0  180000000     99.0"
      ]
     },
     "execution_count": 1,
     "metadata": {},
     "output_type": "execute_result"
    }
   ],
   "source": [
    "import pandas as pd \n",
    "def analizar_peliculas():\n",
    "    \n",
    "    df = pd.read_csv('movies_metadata.csv')\n",
    "    df = df[['title', 'release_date', 'budget', 'revenue', 'runtime']]\n",
    "    df = df[(df['revenue'] > 2000000) & (df['budget'] < 1000000)].reset_index(drop = True)\n",
    "    return df\n",
    "analizar_peliculas()"
   ]
  },
  {
   "cell_type": "code",
   "execution_count": 2,
   "metadata": {},
   "outputs": [
    {
     "name": "stdout",
     "output_type": "stream",
     "text": [
      "Excelente, has aprendido a leer CSV's con python y como filtrarlos!\n"
     ]
    }
   ],
   "source": [
    "if __name__ == '__main__':\n",
    "    peliculas_resultantes = analizar_peliculas()\n",
    "    assert isinstance(peliculas_resultantes, pd.DataFrame), \"Tu función aun no devuelve un Dataframe!\"\n",
    "    assert peliculas_resultantes.shape[1] == 5, \"Verifica que tu Dataframe solo contenga las columnas mencionadas\"\n",
    "    assert peliculas_resultantes.shape[\n",
    "               0] == 3, \"Creo que debes verificar los filtros, la cantidad de películas que cumple las condiciones no es correcta\"\n",
    "    print(\"Excelente, has aprendido a leer CSV's con python y como filtrarlos!\")"
   ]
  },
  {
   "cell_type": "code",
   "execution_count": null,
   "metadata": {},
   "outputs": [],
   "source": []
  }
 ],
 "metadata": {
  "kernelspec": {
   "display_name": "Python 3",
   "language": "python",
   "name": "python3"
  },
  "language_info": {
   "codemirror_mode": {
    "name": "ipython",
    "version": 3
   },
   "file_extension": ".py",
   "mimetype": "text/x-python",
   "name": "python",
   "nbconvert_exporter": "python",
   "pygments_lexer": "ipython3",
   "version": "3.7.6"
  }
 },
 "nbformat": 4,
 "nbformat_minor": 4
}
