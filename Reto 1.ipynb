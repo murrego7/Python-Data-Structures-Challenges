{
 "cells": [
  {
   "cell_type": "markdown",
   "metadata": {},
   "source": [
    "# Solución Reto 1 #"
   ]
  },
  {
   "cell_type": "code",
   "execution_count": 5,
   "metadata": {},
   "outputs": [
    {
     "data": {
      "text/plain": [
       "'new python programmer a great person.  excellent solving problems coding writing scripts solve modern problems'"
      ]
     },
     "execution_count": 5,
     "metadata": {},
     "output_type": "execute_result"
    }
   ],
   "source": [
    "def limpiar_stop_words(): \n",
    "    stopwords = ['the', 'of', 'is', 'i', 'me', 'he', 'she', 'of', 'or', 'and', 'for', 'to']\n",
    "    \n",
    "    texto_a_limpiar = \"The NEW python prograMMER is a GREAT person. He is EXCEllent solving problems OF CODING anD \" \\\n",
    "                    \"writING scrIPts tO solve moDErn problems\"\n",
    "    \n",
    "    texto_a_limpiar = texto_a_limpiar.lower()\n",
    "    texto_a_limpiar = list(texto_a_limpiar.split(\" \")) \n",
    "    \n",
    "    for word in texto_a_limpiar:  \n",
    "        if word in stopwords:\n",
    "            texto_a_limpiar.remove(word)\n",
    "    \n",
    "    texto_a_limpiar = ' '.join([str(elem) for elem in texto_a_limpiar]) \n",
    "    texto_a_limpiar = texto_a_limpiar.replace('is', '')\n",
    "\n",
    "    return texto_a_limpiar\n",
    "limpiar_stop_words()"
   ]
  }
 ],
 "metadata": {
  "kernelspec": {
   "display_name": "Python 3",
   "language": "python",
   "name": "python3"
  },
  "language_info": {
   "codemirror_mode": {
    "name": "ipython",
    "version": 3
   },
   "file_extension": ".py",
   "mimetype": "text/x-python",
   "name": "python",
   "nbconvert_exporter": "python",
   "pygments_lexer": "ipython3",
   "version": "3.7.6"
  }
 },
 "nbformat": 4,
 "nbformat_minor": 4
}
