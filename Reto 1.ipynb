{
 "cells": [
  {
   "cell_type": "markdown",
   "metadata": {},
   "source": [
    "# Solución Reto 1 #"
   ]
  },
  {
   "cell_type": "code",
   "execution_count": 8,
   "metadata": {},
   "outputs": [
    {
     "name": "stdout",
     "output_type": "stream",
     "text": [
      "Tu limpiador de texto funciona!. FELICITACIONES!!!\n"
     ]
    }
   ],
   "source": [
    "stopwords = ['the', 'of', 'is', 'i', 'me', 'he', 'she', 'of', 'or', 'and', 'for', 'to']\n",
    "\n",
    "\n",
    "def limpiar_stop_words(texto_a_limpiar):\n",
    "    \n",
    "    texto_a_limpiar = \"The NEW python prograMMER is a GREAT person. He is EXCEllent solving problems OF CODING anD \" \\\n",
    "                    \"writING scrIPts tO solve moDErn problems\"\n",
    "    \n",
    "    texto_a_limpiar = texto_a_limpiar.lower()\n",
    "    texto_a_limpiar = list(texto_a_limpiar.split(\" \")) \n",
    "    \n",
    "    for word in texto_a_limpiar:  \n",
    "        if word in stopwords:\n",
    "            texto_a_limpiar.remove(word)\n",
    "    \n",
    "    texto_a_limpiar = ' '.join([str(elem) for elem in texto_a_limpiar]) \n",
    "    texto_a_limpiar = texto_a_limpiar.replace('is', '')\n",
    "    \n",
    "\n",
    "    return texto_a_limpiar\n",
    "\n",
    "\n",
    "if __name__ == '__main__':\n",
    "    texto_entrada = \"The NEW python prograMMER is a GREAT person. He is EXCEllent solving problems OF CODING anD \" \\\n",
    "                    \"writING scrIPts tO solve moDErn problems\"\n",
    "    texto_procesado = limpiar_stop_words(texto_entrada)\n",
    "    texto_limpio = \"new python programmer a great person.  excellent solving problems coding writing \" \\\n",
    "                   \"scripts solve modern problems\"\n",
    "    assert texto_limpio == texto_procesado, \"Tu función aun no limpia de forma correcta\"\n",
    "    print(\"Tu limpiador de texto funciona!. FELICITACIONES!!!\")"
   ]
  },
  {
   "cell_type": "code",
   "execution_count": null,
   "metadata": {},
   "outputs": [],
   "source": []
  }
 ],
 "metadata": {
  "kernelspec": {
   "display_name": "Python 3",
   "language": "python",
   "name": "python3"
  },
  "language_info": {
   "codemirror_mode": {
    "name": "ipython",
    "version": 3
   },
   "file_extension": ".py",
   "mimetype": "text/x-python",
   "name": "python",
   "nbconvert_exporter": "python",
   "pygments_lexer": "ipython3",
   "version": "3.7.6"
  }
 },
 "nbformat": 4,
 "nbformat_minor": 4
}
